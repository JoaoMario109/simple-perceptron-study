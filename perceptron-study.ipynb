{
 "cells": [
  {
   "attachments": {},
   "cell_type": "markdown",
   "metadata": {},
   "source": [
    "### Brief tests on perceptron\n",
    "\n",
    "This is just a set of simple tests using the raw perceptron definition, without any kind of much advanced neural net or AI frameworks, just matplot lib to plot the .gifs outputs and some simple functions as the net."
   ]
  },
  {
   "attachments": {},
   "cell_type": "markdown",
   "metadata": {},
   "source": [
    "### Packages"
   ]
  },
  {
   "cell_type": "code",
   "execution_count": null,
   "metadata": {},
   "outputs": [],
   "source": [
    "!pip -q install numpy matplotlib"
   ]
  },
  {
   "attachments": {},
   "cell_type": "markdown",
   "metadata": {},
   "source": [
    "### Imports"
   ]
  },
  {
   "cell_type": "code",
   "execution_count": null,
   "metadata": {},
   "outputs": [],
   "source": [
    "import numpy as np\n",
    "import matplotlib.pyplot as plt\n",
    "from matplotlib.animation import FuncAnimation"
   ]
  },
  {
   "attachments": {},
   "cell_type": "markdown",
   "metadata": {},
   "source": [
    "### Utils"
   ]
  },
  {
   "cell_type": "code",
   "execution_count": null,
   "metadata": {},
   "outputs": [],
   "source": [
    "\n",
    "#\n",
    "# Defines activation alpha function, currently using Heaviside\n",
    "#\n",
    "def alpha(x: float) -> float:\n",
    "\treturn np.heaviside(x, 0)\n",
    "\n",
    "#\n",
    "# Defines individual node function for one input\n",
    "#\n",
    "def zeta(x: float, w: float, b: float) -> float:\n",
    "\treturn alpha((x * w) +  b)\n",
    "\n",
    "#\n",
    "# Defines individual node function for two input\n",
    "#\n",
    "def zeta2(x1: float, x2: float, w1: float, w2: float, b: float) -> float:\n",
    "\treturn alpha((x1 * w1) + (x2 * w2) + b)\n",
    "\n",
    "#\n",
    "# Defines a net for 2 inputs, 2 middle nodes, 1 output node, output\n",
    "#\n",
    "# [\n",
    "#     [ x1, x2 ],\n",
    "#     [\n",
    "#         node1: { w11, w21, b1 },\n",
    "#         node2: { w12, w22, b2 }\n",
    "#     ],\n",
    "#     [\n",
    "#         node3: { w13, w23, b3 }\n",
    "#     ],\n",
    "#     [ output ]\n",
    "# ]\n",
    "#\n",
    "def net(\n",
    "\tx1: float, x2: float,\n",
    "\tw11: float, w21: float, b1: float,\n",
    "\tw12: float, w22: float, b2: float,\n",
    "\tw13: float, w23: float, b3: float,\n",
    ")-> float:\n",
    "\tnode1 = zeta2(x1, x2, w11, w21, b1)\n",
    "\tnode2 = zeta2(x1, x2, w12, w22, b2)\n",
    "\treturn zeta2(node1, node2, w13, w23, b3)\n",
    "\n",
    "#\n",
    "# Defines a default range for inputs from -1 to 1\n",
    "#\n",
    "x_range = np.arange(-1.0, 1.0, 0.01)\n",
    "y_range = np.arange(-1.0, 1.0, 0.01)\n",
    "\n",
    "#\n",
    "# Defines a linear space for 50 frames with a value associated with each\n",
    "# from -1 to 1\n",
    "#\n",
    "frames = np.linspace(-1, 1, 50)\n"
   ]
  },
  {
   "attachments": {},
   "cell_type": "markdown",
   "metadata": {},
   "source": [
    "<hr />"
   ]
  },
  {
   "attachments": {},
   "cell_type": "markdown",
   "metadata": {},
   "source": [
    "### Figure and axes creationg for 2D plotting"
   ]
  },
  {
   "cell_type": "code",
   "execution_count": null,
   "metadata": {},
   "outputs": [],
   "source": [
    "#\n",
    "# Creates a base plot for all next 2d plotting\n",
    "#\n",
    "\n",
    "# Create plots\n",
    "fig, ax = plt.subplots()\n",
    "line, = ax.plot([], [], lw = 2)\n",
    "# Limits\n",
    "ax.set_xlim([-1.0, 1.0])\n",
    "ax.set_ylim([-0.1, 1.1])\n",
    "# Labels\n",
    "ax.set_xlabel(\"x\")\n",
    "ax.set_ylabel(\"H(Z(x))\")"
   ]
  },
  {
   "attachments": {},
   "cell_type": "markdown",
   "metadata": {},
   "source": [
    "<hr />"
   ]
  },
  {
   "cell_type": "code",
   "execution_count": null,
   "metadata": {},
   "outputs": [],
   "source": [
    "#\n",
    "# Single perceptron with single input, constant weight varying bias\n",
    "#\n",
    "\n",
    "# Animation function\n",
    "def update(b, line):\n",
    "\t# Calculates new Y for this bias\n",
    "\ty = alpha(zeta(x_range, 1.0, b))\n",
    "\t# Updates plot data\n",
    "\tline.set_data(x_range, y)\n",
    "\t# Updates title\n",
    "\tax.set_title(f\"Changing bias parameter in Z(x) [b = {b:.2f}]\")\n",
    "\t# Returns new draw\n",
    "\treturn line,\n",
    "\n",
    "# Creates animation\n",
    "anim = FuncAnimation(fig, update, frames = frames, fargs = (line,), blit = True)\n",
    "\n",
    "# Saves as a gif\n",
    "anim.save(\n",
    "\t\"./assets/single_input_single_node/bias.gif\",\n",
    "\twriter = \"imagemagick\",\n",
    "\tfps = 10\n",
    ")"
   ]
  },
  {
   "attachments": {},
   "cell_type": "markdown",
   "metadata": {},
   "source": [
    "#### Gif result for single perceptron with single input, constant weight varying bias\n",
    "\n",
    "<img src=\"./assets/single_input_single_node/bias.gif\" />"
   ]
  },
  {
   "attachments": {},
   "cell_type": "markdown",
   "metadata": {},
   "source": [
    "<hr />"
   ]
  },
  {
   "cell_type": "code",
   "execution_count": null,
   "metadata": {},
   "outputs": [],
   "source": [
    "#\n",
    "# Single perceptron with single input, constant bias varying weight\n",
    "#\n",
    "\n",
    "# Animation function\n",
    "def update(b, line):\n",
    "\t# Calculates new Y for this bias\n",
    "\ty = alpha(zeta(x_range, b, 0))\n",
    "\t# Updates plot data\n",
    "\tline.set_data(x_range, y)\n",
    "\t# Updates title\n",
    "\tax.set_title(f\"Changing weight parameter in Z(x) [w = {b:.2f}]\")\n",
    "\t# Returns new draw\n",
    "\treturn line,\n",
    "\n",
    "# Creates animation\n",
    "anim = FuncAnimation(fig, update, frames = frames, fargs = (line,), blit = True)\n",
    "\n",
    "# Saves as a gif\n",
    "anim.save(\n",
    "\t\"./assets/single_input_single_node/weight.gif\",\n",
    "\twriter = \"imagemagick\",\n",
    "\tfps = 10\n",
    ")"
   ]
  },
  {
   "attachments": {},
   "cell_type": "markdown",
   "metadata": {},
   "source": [
    "#### Gif result for single perceptron with single input, constant bias varying weight\n",
    "\n",
    "<img src=\"./assets/single_input_single_node/weight.gif\" />"
   ]
  },
  {
   "attachments": {},
   "cell_type": "markdown",
   "metadata": {},
   "source": [
    "<hr />"
   ]
  },
  {
   "attachments": {},
   "cell_type": "markdown",
   "metadata": {},
   "source": [
    "### Figure and axes creationg for 3D plotting"
   ]
  },
  {
   "cell_type": "code",
   "execution_count": null,
   "metadata": {},
   "outputs": [],
   "source": [
    "#\n",
    "# Creates a base plot for all next 3d plotting\n",
    "#\n",
    "\n",
    "# Create fig and axes\n",
    "fig = plt.figure(figsize = (8, 8))\n",
    "ax = plt.axes(111, projection = \"3d\")\n",
    "ax.set_box_aspect(aspect = None, zoom = 0.95)\n",
    "# Labels\n",
    "ax.set_xlabel(\"x1\", weight = \"bold\")\n",
    "ax.set_ylabel(\"x2\", weight = \"bold\")\n",
    "ax.set_zlabel(\"H(Z(x1, x2))\", weight = \"bold\")\n",
    "# Limits\n",
    "ax.set_xlim([-1.1, 1.1])\n",
    "ax.set_ylim([-1.1, 1.1])\n",
    "ax.set_zlim([-0.1, 1.1])\n",
    "# Defines initial data weight 1 and 2 = 1 bias = 0\n",
    "X, Y = np.meshgrid(x_range, y_range)\n",
    "Z_init = zeta2(X, Y, 1, 1, 0)\n",
    "# Create initial plot\n",
    "plot = [\n",
    "\tax.plot_surface(\n",
    "\t\tX, Y, Z_init,\n",
    "\t\trstride = 1, cstride = 1,\n",
    "\t\tcmap = \"viridis\", edgecolor = \"none\"\n",
    "\t)\n",
    "]"
   ]
  },
  {
   "attachments": {},
   "cell_type": "markdown",
   "metadata": {},
   "source": [
    "<hr />"
   ]
  },
  {
   "cell_type": "code",
   "execution_count": null,
   "metadata": {},
   "outputs": [],
   "source": [
    "#\n",
    "# Single perceptron with two inputs, constant weight varying bias\n",
    "#\n",
    "\n",
    "# Animation function\n",
    "def update(b, plot, ax):\n",
    "\t# Calculates new Z for this bias\n",
    "\tZ_frame = zeta2(X, Y, 1, 1, b)\n",
    "\t# Updates plot data\n",
    "\tplot[0].remove()\n",
    "\tplot[0] = ax.plot_surface(\n",
    "\t\tX, Y, Z_frame,\n",
    "\t\trstride = 1, cstride = 1,\n",
    "\t\tcmap = \"viridis\", edgecolor = \"none\"\n",
    "\t)\n",
    "\t# Updates title\n",
    "\tax.set_title(f\"Changing bias parameter in Z(x1, x2) [b = {b:.2f}]\")\n",
    "\n",
    "# Creates animation\n",
    "anim = FuncAnimation(fig, update, frames = frames, fargs = (plot, ax))\n",
    "\n",
    "# Saves as a gif\n",
    "anim.save(\n",
    "\t\"./assets/two_input_single_node/bias.gif\",\n",
    "\twriter = \"imagemagick\",\n",
    "\tfps = 10\n",
    ")"
   ]
  },
  {
   "attachments": {},
   "cell_type": "markdown",
   "metadata": {},
   "source": [
    "#### Gif result for single perceptron with two inputs, constant weight varying bias\n",
    "\n",
    "<img src=\"./assets/two_input_single_node/bias.gif\" />"
   ]
  },
  {
   "attachments": {},
   "cell_type": "markdown",
   "metadata": {},
   "source": [
    "<hr />"
   ]
  },
  {
   "cell_type": "code",
   "execution_count": null,
   "metadata": {},
   "outputs": [],
   "source": [
    "#\n",
    "# Single perceptron with two inputs, constant bias varying weight symmetric\n",
    "#\n",
    "\n",
    "# Animation function\n",
    "def update(b, plot, ax):\n",
    "\t# Calculates new Z for this bias\n",
    "\tZ_frame = zeta2(X, Y, b, b, 0)\n",
    "\t# Updates plot data\n",
    "\tplot[0].remove()\n",
    "\tplot[0] = ax.plot_surface(\n",
    "\t\tX, Y, Z_frame,\n",
    "\t\trstride = 1, cstride = 1,\n",
    "\t\tcmap = \"viridis\", edgecolor = \"none\"\n",
    "\t)\n",
    "\t# Updates title\n",
    "\tax.set_title(f\"Changing weight parameter in Z(x1, x2) [w1 = w2 = {b:.2f}]\")\n",
    "\n",
    "# Creates animation\n",
    "anim = FuncAnimation(fig, update, frames = frames, fargs = (plot, ax))\n",
    "\n",
    "# Saves as a gif\n",
    "anim.save(\n",
    "\t\"./assets/two_input_single_node/symmetric_weight.gif\",\n",
    "\twriter = \"imagemagick\",\n",
    "\tfps = 10\n",
    ")\n"
   ]
  },
  {
   "attachments": {},
   "cell_type": "markdown",
   "metadata": {},
   "source": [
    "#### Gif result for single perceptron with two inputs, constant bias varying weight symmetric\n",
    "\n",
    "<img src=\"./assets/two_input_single_node/symmetric_weight.gif\" />"
   ]
  },
  {
   "attachments": {},
   "cell_type": "markdown",
   "metadata": {},
   "source": [
    "<hr />"
   ]
  },
  {
   "cell_type": "code",
   "execution_count": null,
   "metadata": {},
   "outputs": [],
   "source": [
    "#\n",
    "# Single perceptron with two inputs, constant bias varying weight asymmetric 1\n",
    "#\n",
    "\n",
    "# Animation function\n",
    "def update(b, plot, ax):\n",
    "\t# Calculates new Z for this bias\n",
    "\tZ_frame = zeta2(X, Y, np.sin(np.pi * b), b, 0)\n",
    "\t# Updates plot data\n",
    "\tplot[0].remove()\n",
    "\tplot[0] = ax.plot_surface(\n",
    "\t\tX, Y, Z_frame,\n",
    "\t\trstride = 1, cstride = 1,\n",
    "\t\tcmap = \"viridis\", edgecolor = \"none\"\n",
    "\t)\n",
    "\t# Updates title\n",
    "\tax.set_title(f\"Changing weight parameter in Z(x1, x2) [w1 = sin(PI * w2), w2 = {b:.2f}]\")\n",
    "\n",
    "# Creates animation\n",
    "anim = FuncAnimation(fig, update, frames = frames, fargs = (plot, ax))\n",
    "\n",
    "# Saves as a gif\n",
    "anim.save(\n",
    "\t\"./assets/two_input_single_node/asymmetric_weight_1.gif\",\n",
    "\twriter = \"imagemagick\",\n",
    "\tfps = 10\n",
    ")\n"
   ]
  },
  {
   "attachments": {},
   "cell_type": "markdown",
   "metadata": {},
   "source": [
    "#### Gif result for single perceptron with two inputs, constant bias varying weight asymmetric 1\n",
    "\n",
    "<img src=\"./assets/two_input_single_node/asymmetric_weight_1.gif\" />"
   ]
  },
  {
   "attachments": {},
   "cell_type": "markdown",
   "metadata": {},
   "source": [
    "<hr />"
   ]
  },
  {
   "cell_type": "code",
   "execution_count": null,
   "metadata": {},
   "outputs": [],
   "source": [
    "#\n",
    "# Single perceptron with two inputs, varying bias varying weight asymmetric 2\n",
    "#\n",
    "\n",
    "# Animation function\n",
    "def update(b, plot, ax):\n",
    "\t# Calculates new Z for this bias\n",
    "\tZ_frame = zeta2(X, Y, np.sin(np.pi * b), np.cos(np.pi * b), np.sin(np.pi * np.abs(b)))\n",
    "\t# Updates plot data\n",
    "\tplot[0].remove()\n",
    "\tplot[0] = ax.plot_surface(\n",
    "\t\tX, Y, Z_frame,\n",
    "\t\trstride = 1, cstride = 1,\n",
    "\t\tcmap = \"viridis\", edgecolor = \"none\"\n",
    "\t)\n",
    "\t# Updates title\n",
    "\tax.set_title(f\"Changing weight and bias parameter in Z(x1, x2)\\n[w1 = sin(PI * {b:.2f}), w2 = cos(PI * {b:.2f}), b = sin(PI * abs({b:.2f}))]\")\n",
    "\n",
    "# Creates animation\n",
    "anim = FuncAnimation(fig, update, frames = frames, fargs = (plot, ax))\n",
    "\n",
    "# Saves as a gif\n",
    "anim.save(\n",
    "\t\"./assets/two_input_single_node/asymmetric_weight_2.gif\",\n",
    "\twriter = \"imagemagick\",\n",
    "\tfps = 10\n",
    ")\n"
   ]
  },
  {
   "attachments": {},
   "cell_type": "markdown",
   "metadata": {},
   "source": [
    "#### Gif result for single perceptron with two inputs, varying bias varying weight asymmetric 2\n",
    "\n",
    "<img src=\"./assets/two_input_single_node/asymmetric_weight_2.gif\" />"
   ]
  },
  {
   "attachments": {},
   "cell_type": "markdown",
   "metadata": {},
   "source": [
    "<hr />"
   ]
  },
  {
   "cell_type": "code",
   "execution_count": null,
   "metadata": {},
   "outputs": [],
   "source": [
    "#\n",
    "# Simple net with two inputs, constant bias varying weight asymmetric 1\n",
    "#\n",
    "\n",
    "# Animation function\n",
    "def update(b, plot, ax):\n",
    "\t# Calculates new Z for this bias\n",
    "\tZ_frame = net(\n",
    "\t\tX, Y,\n",
    "\t\tnp.cos(np.pi * b), np.sin(np.pi * b), 0,\n",
    "\t\tnp.sin(np.pi * b), np.cos(np.pi * b), 0,\n",
    "\t\t1, 1, 0\n",
    "\t)\n",
    "\t# Updates plot data\n",
    "\tplot[0].remove()\n",
    "\tplot[0] = ax.plot_surface(\n",
    "\t\tX, Y, Z_frame,\n",
    "\t\trstride = 1, cstride = 1,\n",
    "\t\tcmap = \"viridis\", edgecolor = \"none\"\n",
    "\t)\n",
    "\t# Updates title\n",
    "\tax.set_title(f\"Changing weight and bias parameter in NET [[x1, x2], [Z1, Z2], [Z3]]\\n Parameters:\\nZ1 [w1 = cos(PI * {b:.2f}), w2 = sin(PI * {b:.2f}), b = 0]\\nZ2 [w1 = sin(PI * {b:.2f}), w2 = cos(PI * {b:.2f}), b = 0]\\nZ3 [w1 = 1, w2 = 1, b = 0]\", y = 1)\n",
    "\n",
    "# Creates animation\n",
    "anim = FuncAnimation(fig, update, frames = frames, fargs = (plot, ax))\n",
    "\n",
    "# Saves as a gif\n",
    "anim.save(\n",
    "\t\"./assets/simple_net/constant_bias.gif\",\n",
    "\twriter = \"imagemagick\",\n",
    "\tfps = 10\n",
    ")\n"
   ]
  },
  {
   "attachments": {},
   "cell_type": "markdown",
   "metadata": {},
   "source": [
    "### Gif result for simple net with two inputs, constant bias varying weight asymmetric 1\n",
    "\n",
    "<img src=\"./assets/simple_net/constant_bias.gif\" />"
   ]
  },
  {
   "attachments": {},
   "cell_type": "markdown",
   "metadata": {},
   "source": [
    "<hr />"
   ]
  },
  {
   "cell_type": "code",
   "execution_count": null,
   "metadata": {},
   "outputs": [],
   "source": [
    "#\n",
    "# Simple net with two inputs, varying bias varying weight asymmetric 2\n",
    "#\n",
    "\n",
    "# Animation function\n",
    "def update(b, plot, ax):\n",
    "\t# Calculates new Z for this bias\n",
    "\tZ_frame = net(\n",
    "\t\tX, Y,\n",
    "\t\tnp.cos(np.pi * b), np.sin(np.pi * b), np.cos(np.pi * b) * 0.25,\n",
    "\t\tnp.sin(np.pi * b), np.cos(np.pi * b), np.cos(np.pi * b) * 0.25,\n",
    "\t\t1, 1, 0\n",
    "\t)\n",
    "\t# Updates plot data\n",
    "\tplot[0].remove()\n",
    "\tplot[0] = ax.plot_surface(\n",
    "\t\tX, Y, Z_frame,\n",
    "\t\trstride = 1, cstride = 1,\n",
    "\t\tcmap = \"viridis\", edgecolor = \"none\"\n",
    "\t)\n",
    "\t# Updates title\n",
    "\tax.set_title(f\"Changing weight and bias parameter in NET [[x1, x2], [Z1, Z2], [Z3]]\\n Parameters:\\nZ1 [w1 = cos(PI * {b:.2f}), w2 = sin(PI * {b:.2f}), b = sin(PI * {b:.2f}) * 0.25]\\nZ2 [w1 = sin(PI * {b:.2f}), w2 = cos(PI * {b:.2f}), b = sin(PI * {b:.2f}) * 0.25]\\nZ3 [w1 = 1, w2 = 1, b = 0]\", y = 1)\n",
    "\n",
    "# Creates animation\n",
    "anim = FuncAnimation(fig, update, frames = frames, fargs = (plot, ax))\n",
    "\n",
    "# Saves as a gif\n",
    "anim.save(\n",
    "\t\"./assets/simple_net/asymmetric_1.gif\",\n",
    "\twriter = \"imagemagick\",\n",
    "\tfps = 10\n",
    ")"
   ]
  },
  {
   "attachments": {},
   "cell_type": "markdown",
   "metadata": {},
   "source": [
    "### Gif result for simple net with two inputs, varying bias varying weight asymmetric 2\n",
    "\n",
    "<img src=\"./assets/simple_net/asymmetric_1.gif\" />"
   ]
  }
 ],
 "metadata": {
  "kernelspec": {
   "display_name": ".venv",
   "language": "python",
   "name": "python3"
  },
  "language_info": {
   "codemirror_mode": {
    "name": "ipython",
    "version": 3
   },
   "file_extension": ".py",
   "mimetype": "text/x-python",
   "name": "python",
   "nbconvert_exporter": "python",
   "pygments_lexer": "ipython3",
   "version": "3.10.10"
  },
  "orig_nbformat": 4
 },
 "nbformat": 4,
 "nbformat_minor": 2
}
